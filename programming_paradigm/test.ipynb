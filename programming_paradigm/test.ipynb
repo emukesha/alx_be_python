{
 "cells": [
  {
   "cell_type": "code",
   "execution_count": 52,
   "id": "8410874b-1520-46f8-a5b6-9de005821e9c",
   "metadata": {},
   "outputs": [],
   "source": [
    "class BankAccount:\n",
    "    def __init__(self, account_balance=0):\n",
    "        self.account_balance = account_balance\n",
    "\n",
    "    def deposit(self,amount):\n",
    "        self.account_balance = self.account_balance + amount\n",
    "        return self.account_balance\n",
    "    \n",
    "    def withdraw(self, amount):\n",
    "        if  self.account_balance >= amount:\n",
    "            self.account_balance = self.account_balance - amount\n",
    "            return f\"Withdrew: ${amount}\"\n",
    "        return \"Insufficient funds.\"\n",
    "    \n",
    "    def display_balance(self):\n",
    "        print(f\"Current Balance: ${self.account_balance:.2f}\")"
   ]
  },
  {
   "cell_type": "code",
   "execution_count": 54,
   "id": "06f3628f-d4d4-4d13-8961-cef816efeca9",
   "metadata": {},
   "outputs": [],
   "source": [
    "a = BankAccount()"
   ]
  },
  {
   "cell_type": "code",
   "execution_count": 56,
   "id": "dd7b1d19-937c-4c6d-b23f-5cb1a4b98f14",
   "metadata": {},
   "outputs": [
    {
     "name": "stdout",
     "output_type": "stream",
     "text": [
      "Current Balance: $0.00\n"
     ]
    }
   ],
   "source": [
    "a.display_balance()"
   ]
  },
  {
   "cell_type": "code",
   "execution_count": 58,
   "id": "034df7c7-0d21-4956-a260-dbd1bd3b7cb2",
   "metadata": {},
   "outputs": [
    {
     "data": {
      "text/plain": [
       "'Insufficient funds.'"
      ]
     },
     "execution_count": 58,
     "metadata": {},
     "output_type": "execute_result"
    }
   ],
   "source": [
    "a.withdraw(100)"
   ]
  },
  {
   "cell_type": "code",
   "execution_count": 60,
   "id": "68a3c29d-40f7-4611-ad50-4a2e5f42e34f",
   "metadata": {},
   "outputs": [
    {
     "data": {
      "text/plain": [
       "150"
      ]
     },
     "execution_count": 60,
     "metadata": {},
     "output_type": "execute_result"
    }
   ],
   "source": [
    "a.deposit(150)"
   ]
  },
  {
   "cell_type": "code",
   "execution_count": 62,
   "id": "892fdb0e-1230-4d86-931b-d3611ff8cb4d",
   "metadata": {},
   "outputs": [
    {
     "name": "stdout",
     "output_type": "stream",
     "text": [
      "Current Balance: $150.00\n"
     ]
    }
   ],
   "source": [
    "a.display_balance()"
   ]
  },
  {
   "cell_type": "code",
   "execution_count": 64,
   "id": "00475488-4be0-47d1-8ecc-7019b0d7c1d1",
   "metadata": {},
   "outputs": [
    {
     "data": {
      "text/plain": [
       "'Withdrew: $140'"
      ]
     },
     "execution_count": 64,
     "metadata": {},
     "output_type": "execute_result"
    }
   ],
   "source": [
    "a.withdraw(140)"
   ]
  },
  {
   "cell_type": "code",
   "execution_count": 66,
   "id": "4d4aba64-ac7c-4f9f-91a2-c83ae8cc244b",
   "metadata": {},
   "outputs": [
    {
     "name": "stdout",
     "output_type": "stream",
     "text": [
      "Current Balance: $10.00\n"
     ]
    }
   ],
   "source": [
    "a.display_balance()"
   ]
  },
  {
   "cell_type": "code",
   "execution_count": null,
   "id": "6511b5bd-a180-477e-a9b6-14f7ecb97746",
   "metadata": {},
   "outputs": [],
   "source": []
  }
 ],
 "metadata": {
  "kernelspec": {
   "display_name": "Python [conda env:base] *",
   "language": "python",
   "name": "conda-base-py"
  },
  "language_info": {
   "codemirror_mode": {
    "name": "ipython",
    "version": 3
   },
   "file_extension": ".py",
   "mimetype": "text/x-python",
   "name": "python",
   "nbconvert_exporter": "python",
   "pygments_lexer": "ipython3",
   "version": "3.12.7"
  }
 },
 "nbformat": 4,
 "nbformat_minor": 5
}
