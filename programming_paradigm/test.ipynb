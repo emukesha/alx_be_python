{
 "cells": [
  {
   "cell_type": "code",
   "execution_count": 34,
   "id": "036354cb-296a-40aa-9c2a-d0f9dcdcccb5",
   "metadata": {},
   "outputs": [],
   "source": [
    "class BankAccount:\n",
    "    def __init__(self, account_balance=0):\n",
    "        # self.amount = amount\n",
    "        self.account_balance = account_balance\n",
    "\n",
    "    def deposit(self,amount):\n",
    "        self.account_balance = self.account_balance + amount\n",
    "        return f\"Deposited: ${self.account_balance}\"\n",
    "    \n",
    "    def withdraw(self, amount):\n",
    "        if amount <= self.account_balance:\n",
    "            self.account_balance = self.account_balance - amount\n",
    "            return f\"Withdrew: ${amount}\"\n",
    "        return \"Insufficient funds.\"\n",
    "    \n",
    "    def display_balance(self):\n",
    "        return f\"Current Balance: ${self.account_balance}\""
   ]
  },
  {
   "cell_type": "code",
   "execution_count": 36,
   "id": "86cf87dc-603f-4157-8ebc-7a9a228b4a3b",
   "metadata": {},
   "outputs": [],
   "source": [
    "a = BankAccount()"
   ]
  },
  {
   "cell_type": "code",
   "execution_count": 38,
   "id": "e5857ec8-ccb5-40bc-b7cd-906cebf4d1eb",
   "metadata": {},
   "outputs": [
    {
     "data": {
      "text/plain": [
       "'Current Balance: $0'"
      ]
     },
     "execution_count": 38,
     "metadata": {},
     "output_type": "execute_result"
    }
   ],
   "source": [
    "a.display_balance()"
   ]
  },
  {
   "cell_type": "code",
   "execution_count": 40,
   "id": "5293c1ad-3761-48a4-ab0d-fdac78c2c16d",
   "metadata": {},
   "outputs": [
    {
     "data": {
      "text/plain": [
       "'Deposited: $100'"
      ]
     },
     "execution_count": 40,
     "metadata": {},
     "output_type": "execute_result"
    }
   ],
   "source": [
    "a.deposit(100)"
   ]
  },
  {
   "cell_type": "code",
   "execution_count": 42,
   "id": "656637c5-586f-4d8f-9401-428b7b4a47fa",
   "metadata": {},
   "outputs": [
    {
     "data": {
      "text/plain": [
       "'Current Balance: $100'"
      ]
     },
     "execution_count": 42,
     "metadata": {},
     "output_type": "execute_result"
    }
   ],
   "source": [
    "a.display_balance()"
   ]
  },
  {
   "cell_type": "code",
   "execution_count": 44,
   "id": "10cd2322-cbc8-45c0-a39d-f67b6641bba9",
   "metadata": {},
   "outputs": [
    {
     "data": {
      "text/plain": [
       "'Withdrew: $20'"
      ]
     },
     "execution_count": 44,
     "metadata": {},
     "output_type": "execute_result"
    }
   ],
   "source": [
    "a.withdraw(20)"
   ]
  },
  {
   "cell_type": "code",
   "execution_count": 46,
   "id": "2bb069dd-44fa-4df7-b405-3c854c1af662",
   "metadata": {},
   "outputs": [
    {
     "data": {
      "text/plain": [
       "'Current Balance: $80'"
      ]
     },
     "execution_count": 46,
     "metadata": {},
     "output_type": "execute_result"
    }
   ],
   "source": [
    "a.display_balance()"
   ]
  },
  {
   "cell_type": "code",
   "execution_count": 48,
   "id": "981ebe5c-2dbc-450d-a018-f9685eed46d3",
   "metadata": {},
   "outputs": [
    {
     "data": {
      "text/plain": [
       "'Insufficient funds.'"
      ]
     },
     "execution_count": 48,
     "metadata": {},
     "output_type": "execute_result"
    }
   ],
   "source": [
    "a.withdraw(150)"
   ]
  },
  {
   "cell_type": "code",
   "execution_count": null,
   "id": "c00110a6-37e9-4531-ba3d-946d163863b9",
   "metadata": {},
   "outputs": [],
   "source": []
  }
 ],
 "metadata": {
  "kernelspec": {
   "display_name": "Python [conda env:base] *",
   "language": "python",
   "name": "conda-base-py"
  },
  "language_info": {
   "codemirror_mode": {
    "name": "ipython",
    "version": 3
   },
   "file_extension": ".py",
   "mimetype": "text/x-python",
   "name": "python",
   "nbconvert_exporter": "python",
   "pygments_lexer": "ipython3",
   "version": "3.12.7"
  }
 },
 "nbformat": 4,
 "nbformat_minor": 5
}
