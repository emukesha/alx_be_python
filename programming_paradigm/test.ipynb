{
 "cells": [
  {
   "cell_type": "code",
   "execution_count": 126,
   "id": "6511b5bd-a180-477e-a9b6-14f7ecb97746",
   "metadata": {},
   "outputs": [],
   "source": [
    "def safe_divide(numerator, denominator):\n",
    "    try:\n",
    "        numerator = float(numerator)\n",
    "        denominator = float(denominator)\n",
    "    except:\n",
    "        print(\"Error: Please enter numeric values only.\")\n",
    "        return\n",
    "    try:\n",
    "        print(numerator/denominator)\n",
    "    except:\n",
    "        print(\"Error: Cannot divide by zero.\")"
   ]
  },
  {
   "cell_type": "code",
   "execution_count": 128,
   "id": "20735c80-badd-4b1f-b354-eda2bb8fc20f",
   "metadata": {},
   "outputs": [
    {
     "name": "stdout",
     "output_type": "stream",
     "text": [
      "0.6666666666666666\n"
     ]
    }
   ],
   "source": [
    "safe_divide(20,30)"
   ]
  },
  {
   "cell_type": "code",
   "execution_count": 130,
   "id": "03a9a19f-1a61-446d-821e-379e8e280873",
   "metadata": {},
   "outputs": [
    {
     "name": "stdout",
     "output_type": "stream",
     "text": [
      "Error: Cannot divide by zero.\n"
     ]
    }
   ],
   "source": [
    "safe_divide(20,0)"
   ]
  },
  {
   "cell_type": "code",
   "execution_count": 132,
   "id": "0138bee1-60b5-4305-bacc-0f0df72bdb74",
   "metadata": {},
   "outputs": [
    {
     "name": "stdout",
     "output_type": "stream",
     "text": [
      "Error: Please enter numeric values only.\n"
     ]
    }
   ],
   "source": [
    "safe_divide(\"m\",20)"
   ]
  },
  {
   "cell_type": "code",
   "execution_count": null,
   "id": "3bfabcd7-3f8d-453f-9781-3c9479e018e9",
   "metadata": {},
   "outputs": [],
   "source": []
  }
 ],
 "metadata": {
  "kernelspec": {
   "display_name": "Python [conda env:base] *",
   "language": "python",
   "name": "conda-base-py"
  },
  "language_info": {
   "codemirror_mode": {
    "name": "ipython",
    "version": 3
   },
   "file_extension": ".py",
   "mimetype": "text/x-python",
   "name": "python",
   "nbconvert_exporter": "python",
   "pygments_lexer": "ipython3",
   "version": "3.12.7"
  }
 },
 "nbformat": 4,
 "nbformat_minor": 5
}
